{
 "cells": [
  {
   "cell_type": "code",
   "execution_count": 1,
   "metadata": {},
   "outputs": [
    {
     "name": "stderr",
     "output_type": "stream",
     "text": [
      "c:\\Users\\GillA\\Anaconda3\\envs\\Point-D_env\\lib\\site-packages\\tqdm\\auto.py:21: TqdmWarning: IProgress not found. Please update jupyter and ipywidgets. See https://ipywidgets.readthedocs.io/en/stable/user_install.html\n",
      "  from .autonotebook import tqdm as notebook_tqdm\n"
     ]
    }
   ],
   "source": [
    "import os\n",
    "import time\n",
    "import math\n",
    "import argparse\n",
    "import torch\n",
    "from tqdm.auto import tqdm\n",
    "\n",
    "from utils.dataset import *\n",
    "from utils.misc import *\n",
    "from utils.data import *\n",
    "from models.vae_gaussian import *\n",
    "from models.vae_flow import *\n",
    "from models.flow import add_spectral_norm, spectral_norm_power_iteration\n",
    "from evaluation import *"
   ]
  },
  {
   "cell_type": "code",
   "execution_count": null,
   "metadata": {},
   "outputs": [],
   "source": [
    "# Model\n",
    "ckpt = torch.load(\"\")\n",
    "model = GaussianVAE(ckpt['args']).to(args.device)\n",
    "model.load_state_dict(ckpt['state_dict'])"
   ]
  },
  {
   "cell_type": "code",
   "execution_count": null,
   "metadata": {},
   "outputs": [],
   "source": [
    "# Datasets and loaders\n",
    "dataset_path = \"\"\n",
    "batch_size = 0\n",
    "test_dset = ShapeNetCore(\n",
    "    path=dataset_path,\n",
    "    cates=\"1111\",\n",
    "    split='test',\n",
    "    scale_mode=None,\n",
    ")\n",
    "test_loader = DataLoader(test_dset, batch_size=batch_size, num_workers=0)"
   ]
  },
  {
   "cell_type": "code",
   "execution_count": null,
   "metadata": {},
   "outputs": [],
   "source": [
    "\n",
    "# Reference Point Clouds\n",
    "ref_pcs = []\n",
    "for i, data in enumerate(test_dset):\n",
    "    ref_pcs.append(data['pointcloud'].unsqueeze(0))\n",
    "ref_pcs = torch.cat(ref_pcs, dim=0)\n",
    "\n",
    "# Generate Point Clouds\n",
    "gen_pcs = []\n",
    "for i in tqdm(range(0, math.ceil(len(test_dset) / args.batch_size)), 'Generate'):\n",
    "    with torch.no_grad():\n",
    "        z = torch.randn([args.batch_size, ckpt['args'].latent_dim]).to(args.device)\n",
    "        x = model.sample(z, args.sample_num_points, flexibility=ckpt['args'].flexibility)\n",
    "        gen_pcs.append(x.detach().cpu())\n",
    "gen_pcs = torch.cat(gen_pcs, dim=0)[:len(test_dset)]\n",
    "if args.normalize is not None:\n",
    "    gen_pcs = normalize_point_clouds(gen_pcs, mode=args.normalize, logger=logger)"
   ]
  }
 ],
 "metadata": {
  "kernelspec": {
   "display_name": "Point-D_env",
   "language": "python",
   "name": "python3"
  },
  "language_info": {
   "codemirror_mode": {
    "name": "ipython",
    "version": 3
   },
   "file_extension": ".py",
   "mimetype": "text/x-python",
   "name": "python",
   "nbconvert_exporter": "python",
   "pygments_lexer": "ipython3",
   "version": "3.10.11"
  },
  "orig_nbformat": 4
 },
 "nbformat": 4,
 "nbformat_minor": 2
}
